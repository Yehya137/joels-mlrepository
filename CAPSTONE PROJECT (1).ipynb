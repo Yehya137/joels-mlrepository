{
 "cells": [
  {
   "cell_type": "markdown",
   "metadata": {},
   "source": [
    "<a href=\"https://www.who.int/\"><img src = \"https://static01.nyt.com/images/2020/01/29/opinion/29coronavirus_editorial/29coronavirus_editorial-superJumbo-v7.jpg\" width = 400> </a>"
   ]
  },
  {
   "cell_type": "markdown",
   "metadata": {},
   "source": [
    "We , the human species ,are in a battle with a virus that has killed and caused distress to all of us. The COVID-19 originated in Wuhan , China and since then it has spread worldwide. It has killed thousands and infected millions and in this time of distress , we need to make sure we take enough precautions and win the battle against this virus , once and for all."
   ]
  },
  {
   "cell_type": "markdown",
   "metadata": {},
   "source": [
    "<h1 align=center><font size = 5>DATA SCIENCE VS COVID19</font></h1>"
   ]
  },
  {
   "cell_type": "markdown",
   "metadata": {},
   "source": [
    "One might ask how Data Science can do anything against a virus that is so deadly. However the question isn't 'WHAT' Data Science can do but \"WHEN\". Data is already being used to find out a lot of things about the virus that we cannot otherwise find out. On Monday, March 16, in the US, the White House together with, among others, the National Institutes of Health and Georgetown University, released the CORD-19 dataset and issued a call to action. \n",
    "\n",
    "There was an amazing response to this and hundreds of volunteers including data scientists, data engineers, data visualizers, project managers, task managers, leaders, and writers took up the challenge.\n",
    "\n",
    "The task includes 9 questions that need to be answered. Feel free to read up an article about on ericsson.com.\n",
    "https://www.ericsson.com/en/blog/2020/4/ai-and-data-science-to-fight-coronavirus"
   ]
  },
  {
   "cell_type": "markdown",
   "metadata": {},
   "source": [
    "##### INTRODUCTION/BUSINESS PROBLEM\n",
    "New York Has been one of the most affected cities in the world during Corona Virus pandemic. It is one of the most influential and populous cities of the world which makes it even more worrying as such cities can have disastrous end effects with COVID 19. But I hail from the second most populous country in the world - India. India has done well in controlling the virus to some extent. It is a fact that it is only due to the lockdowns and restrictions imposed on every state. However India has now come up with a new Categorization of each district which puts every district into one of the three zones.\n",
    "1)Red Zone (High alert for COVID 19 cases)\n",
    "2)Orange Zone (Medium alert)\n",
    "3)Green Zone ( Relatively very less or no cases of COVID 19)\n",
    "\n",
    "This is a very good system to get the country back into normal ways as green zones dont have to be locked down and just needs to take containment measures. And also breaking the country down into such units can ensure that the green zones will help the country move forward instead of being stuck at home and deadstill. The target audience is the whole world. The Government of USA and the people of New York.\n",
    "##### DATA SECTION\n",
    "I will be trying to implement the same system on New York and try and cluster the Neighborhoods into such zones. Data used will include the Boroughs and Neighborhood data of New York City. The most populous places in New York can be found(Using Foursquare API) which will help to cluster them together. Data about the number of cases in New York and worldwide will help us create visualizations to understand the situation better. I will also be using some airport data to see the number of international visitors into New York City . "
   ]
  },
  {
   "cell_type": "code",
   "execution_count": 2,
   "metadata": {},
   "outputs": [],
   "source": [
    "import pandas as pd\n",
    "import matplotlib as plt \n",
    "import folium\n",
    "import numpy as np\n",
    "from geopy.geocoders import Nominatim\n",
    "from sklearn.cluster import KMeans"
   ]
  }
 ],
 "metadata": {
  "kernelspec": {
   "display_name": "Python 3",
   "language": "python",
   "name": "python3"
  },
  "language_info": {
   "codemirror_mode": {
    "name": "ipython",
    "version": 3
   },
   "file_extension": ".py",
   "mimetype": "text/x-python",
   "name": "python",
   "nbconvert_exporter": "python",
   "pygments_lexer": "ipython3",
   "version": "3.7.4"
  }
 },
 "nbformat": 4,
 "nbformat_minor": 2
}
